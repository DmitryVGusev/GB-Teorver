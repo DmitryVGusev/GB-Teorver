{
 "cells": [
  {
   "cell_type": "markdown",
   "metadata": {},
   "source": [
    "# Теория вероятностей и математическая статистика\n",
    "## Курсовая работа"
   ]
  },
  {
   "cell_type": "code",
   "execution_count": 1,
   "metadata": {},
   "outputs": [],
   "source": [
    "import pandas as pd\n",
    "import numpy as np\n",
    "from matplotlib import pyplot as plt"
   ]
  },
  {
   "cell_type": "markdown",
   "metadata": {},
   "source": [
    "### Disclaimer\n",
    "В данной работе я ставлю перед собой цель опробовать на практике полученные в ходе курса навыки. Исходным датасетом является IMDb.com.\n",
    "Датасет беру с [kaggle](https://www.kaggle.com/crescenzo/imdb-movies-through-2018) <br/>\n",
    "В датасете присутствуют три признака:\n",
    "- Название фильма\n",
    "- Год\n",
    "- Жанр\n",
    "\n",
    "Исходя из этих данных, хочу поставить следующие гипотезы:\n",
    "1.  Чем моложе фильм, тем короче его название\n",
    "2.  Во временя 1ой и 2ой мировых войн документальных фильмов производилось больше\n",
    "3.  Вне войн снимали больше драм"
   ]
  },
  {
   "cell_type": "markdown",
   "metadata": {},
   "source": [
    "Скачаем и распакуем необходимый датасет:"
   ]
  },
  {
   "cell_type": "code",
   "execution_count": 45,
   "metadata": {},
   "outputs": [],
   "source": [
    "tsv_path = '../teorver/csv/IMDB_Data.csv'"
   ]
  },
  {
   "cell_type": "code",
   "execution_count": 120,
   "metadata": {},
   "outputs": [],
   "source": [
    "df = pd.read_csv(tsv_path)"
   ]
  },
  {
   "cell_type": "code",
   "execution_count": 121,
   "metadata": {},
   "outputs": [
    {
     "data": {
      "text/plain": [
       "(487628, 5)"
      ]
     },
     "execution_count": 121,
     "metadata": {},
     "output_type": "execute_result"
    }
   ],
   "source": [
    "df.shape"
   ]
  },
  {
   "cell_type": "markdown",
   "metadata": {},
   "source": [
    "### Чем моложе фильм, тем короче его название\n",
    "#### Подготовка и очистка"
   ]
  },
  {
   "cell_type": "markdown",
   "metadata": {},
   "source": [
    "Проверим датасет на наличие пустых полей"
   ]
  },
  {
   "cell_type": "code",
   "execution_count": 122,
   "metadata": {},
   "outputs": [
    {
     "name": "stdout",
     "output_type": "stream",
     "text": [
      "<class 'pandas.core.frame.DataFrame'>\n",
      "RangeIndex: 487628 entries, 0 to 487627\n",
      "Data columns (total 5 columns):\n",
      "ID         487628 non-null object\n",
      "TITLE      487628 non-null object\n",
      "YEAR       441150 non-null float64\n",
      "RUNTIME    305022 non-null float64\n",
      "GENRE      414531 non-null object\n",
      "dtypes: float64(2), object(3)\n",
      "memory usage: 18.6+ MB\n"
     ]
    }
   ],
   "source": [
    "df.info()"
   ]
  },
  {
   "cell_type": "markdown",
   "metadata": {},
   "source": [
    "В признаке `YEAR` есть пустые значения. Выкинем их"
   ]
  },
  {
   "cell_type": "code",
   "execution_count": 123,
   "metadata": {},
   "outputs": [],
   "source": [
    "df.dropna(subset=['YEAR'], inplace=True)"
   ]
  },
  {
   "cell_type": "code",
   "execution_count": 124,
   "metadata": {
    "scrolled": true
   },
   "outputs": [
    {
     "name": "stdout",
     "output_type": "stream",
     "text": [
      "<class 'pandas.core.frame.DataFrame'>\n",
      "Int64Index: 441150 entries, 0 to 441149\n",
      "Data columns (total 5 columns):\n",
      "ID         441150 non-null object\n",
      "TITLE      441150 non-null object\n",
      "YEAR       441150 non-null float64\n",
      "RUNTIME    301813 non-null float64\n",
      "GENRE      369431 non-null object\n",
      "dtypes: float64(2), object(3)\n",
      "memory usage: 20.2+ MB\n"
     ]
    }
   ],
   "source": [
    "df.info()"
   ]
  },
  {
   "cell_type": "markdown",
   "metadata": {},
   "source": [
    "Посмотрим на значения, которые принимает год:"
   ]
  },
  {
   "cell_type": "code",
   "execution_count": 125,
   "metadata": {},
   "outputs": [
    {
     "data": {
      "text/html": [
       "<div>\n",
       "<style scoped>\n",
       "    .dataframe tbody tr th:only-of-type {\n",
       "        vertical-align: middle;\n",
       "    }\n",
       "\n",
       "    .dataframe tbody tr th {\n",
       "        vertical-align: top;\n",
       "    }\n",
       "\n",
       "    .dataframe thead th {\n",
       "        text-align: right;\n",
       "    }\n",
       "</style>\n",
       "<table border=\"1\" class=\"dataframe\">\n",
       "  <thead>\n",
       "    <tr style=\"text-align: right;\">\n",
       "      <th></th>\n",
       "      <th>YEAR</th>\n",
       "      <th>RUNTIME</th>\n",
       "    </tr>\n",
       "  </thead>\n",
       "  <tbody>\n",
       "    <tr>\n",
       "      <th>count</th>\n",
       "      <td>441150.000000</td>\n",
       "      <td>301813.000000</td>\n",
       "    </tr>\n",
       "    <tr>\n",
       "      <th>mean</th>\n",
       "      <td>1986.373134</td>\n",
       "      <td>87.887424</td>\n",
       "    </tr>\n",
       "    <tr>\n",
       "      <th>std</th>\n",
       "      <td>30.230542</td>\n",
       "      <td>107.648573</td>\n",
       "    </tr>\n",
       "    <tr>\n",
       "      <th>min</th>\n",
       "      <td>1894.000000</td>\n",
       "      <td>1.000000</td>\n",
       "    </tr>\n",
       "    <tr>\n",
       "      <th>25%</th>\n",
       "      <td>1967.000000</td>\n",
       "      <td>73.000000</td>\n",
       "    </tr>\n",
       "    <tr>\n",
       "      <th>50%</th>\n",
       "      <td>1997.000000</td>\n",
       "      <td>89.000000</td>\n",
       "    </tr>\n",
       "    <tr>\n",
       "      <th>75%</th>\n",
       "      <td>2012.000000</td>\n",
       "      <td>100.000000</td>\n",
       "    </tr>\n",
       "    <tr>\n",
       "      <th>max</th>\n",
       "      <td>2115.000000</td>\n",
       "      <td>51420.000000</td>\n",
       "    </tr>\n",
       "  </tbody>\n",
       "</table>\n",
       "</div>"
      ],
      "text/plain": [
       "                YEAR        RUNTIME\n",
       "count  441150.000000  301813.000000\n",
       "mean     1986.373134      87.887424\n",
       "std        30.230542     107.648573\n",
       "min      1894.000000       1.000000\n",
       "25%      1967.000000      73.000000\n",
       "50%      1997.000000      89.000000\n",
       "75%      2012.000000     100.000000\n",
       "max      2115.000000   51420.000000"
      ]
     },
     "execution_count": 125,
     "metadata": {},
     "output_type": "execute_result"
    }
   ],
   "source": [
    "df.describe()"
   ]
  },
  {
   "cell_type": "markdown",
   "metadata": {},
   "source": [
    "Видим, что есть значения вплоть до 2115, чего явно быть не может. Давайте срежем датасет по годам - возьмем интервал $[1894,2020]$"
   ]
  },
  {
   "cell_type": "code",
   "execution_count": 126,
   "metadata": {},
   "outputs": [],
   "source": [
    "df = df[df.YEAR <= 2020]"
   ]
  },
  {
   "cell_type": "markdown",
   "metadata": {},
   "source": [
    "#### Обработка результатов"
   ]
  },
  {
   "cell_type": "markdown",
   "metadata": {},
   "source": [
    "Создадим признак `TITLE_len` с длиной названия фильма в символах"
   ]
  },
  {
   "cell_type": "code",
   "execution_count": 127,
   "metadata": {},
   "outputs": [],
   "source": [
    "df['TITLE_len'] = np.array([len(i) for i in df['TITLE']])"
   ]
  },
  {
   "cell_type": "markdown",
   "metadata": {},
   "source": [
    "Создадим датафрейм с полями `['YEAR','TITLE_len']`"
   ]
  },
  {
   "cell_type": "code",
   "execution_count": 128,
   "metadata": {},
   "outputs": [],
   "source": [
    "gb = df.groupby(['YEAR']).mean().drop(['RUNTIME'], axis=1)"
   ]
  },
  {
   "cell_type": "code",
   "execution_count": 129,
   "metadata": {},
   "outputs": [
    {
     "data": {
      "text/html": [
       "<div>\n",
       "<style scoped>\n",
       "    .dataframe tbody tr th:only-of-type {\n",
       "        vertical-align: middle;\n",
       "    }\n",
       "\n",
       "    .dataframe tbody tr th {\n",
       "        vertical-align: top;\n",
       "    }\n",
       "\n",
       "    .dataframe thead th {\n",
       "        text-align: right;\n",
       "    }\n",
       "</style>\n",
       "<table border=\"1\" class=\"dataframe\">\n",
       "  <thead>\n",
       "    <tr style=\"text-align: right;\">\n",
       "      <th></th>\n",
       "      <th>TITLE_len</th>\n",
       "    </tr>\n",
       "    <tr>\n",
       "      <th>YEAR</th>\n",
       "      <th></th>\n",
       "    </tr>\n",
       "  </thead>\n",
       "  <tbody>\n",
       "    <tr>\n",
       "      <th>1894.0</th>\n",
       "      <td>10.000000</td>\n",
       "    </tr>\n",
       "    <tr>\n",
       "      <th>1897.0</th>\n",
       "      <td>39.000000</td>\n",
       "    </tr>\n",
       "    <tr>\n",
       "      <th>1898.0</th>\n",
       "      <td>19.115385</td>\n",
       "    </tr>\n",
       "    <tr>\n",
       "      <th>1899.0</th>\n",
       "      <td>34.583333</td>\n",
       "    </tr>\n",
       "    <tr>\n",
       "      <th>1900.0</th>\n",
       "      <td>26.600000</td>\n",
       "    </tr>\n",
       "    <tr>\n",
       "      <th>1901.0</th>\n",
       "      <td>31.333333</td>\n",
       "    </tr>\n",
       "    <tr>\n",
       "      <th>1902.0</th>\n",
       "      <td>34.166667</td>\n",
       "    </tr>\n",
       "    <tr>\n",
       "      <th>1903.0</th>\n",
       "      <td>21.000000</td>\n",
       "    </tr>\n",
       "    <tr>\n",
       "      <th>1904.0</th>\n",
       "      <td>30.571429</td>\n",
       "    </tr>\n",
       "    <tr>\n",
       "      <th>1905.0</th>\n",
       "      <td>28.388889</td>\n",
       "    </tr>\n",
       "    <tr>\n",
       "      <th>1906.0</th>\n",
       "      <td>25.533333</td>\n",
       "    </tr>\n",
       "    <tr>\n",
       "      <th>1907.0</th>\n",
       "      <td>22.333333</td>\n",
       "    </tr>\n",
       "    <tr>\n",
       "      <th>1908.0</th>\n",
       "      <td>18.111111</td>\n",
       "    </tr>\n",
       "    <tr>\n",
       "      <th>1909.0</th>\n",
       "      <td>22.808081</td>\n",
       "    </tr>\n",
       "    <tr>\n",
       "      <th>1910.0</th>\n",
       "      <td>22.245455</td>\n",
       "    </tr>\n",
       "    <tr>\n",
       "      <th>1911.0</th>\n",
       "      <td>20.433526</td>\n",
       "    </tr>\n",
       "    <tr>\n",
       "      <th>1912.0</th>\n",
       "      <td>19.353403</td>\n",
       "    </tr>\n",
       "    <tr>\n",
       "      <th>1913.0</th>\n",
       "      <td>19.556522</td>\n",
       "    </tr>\n",
       "    <tr>\n",
       "      <th>1914.0</th>\n",
       "      <td>19.964286</td>\n",
       "    </tr>\n",
       "    <tr>\n",
       "      <th>1915.0</th>\n",
       "      <td>18.237515</td>\n",
       "    </tr>\n",
       "    <tr>\n",
       "      <th>1916.0</th>\n",
       "      <td>18.109576</td>\n",
       "    </tr>\n",
       "    <tr>\n",
       "      <th>1917.0</th>\n",
       "      <td>17.234511</td>\n",
       "    </tr>\n",
       "    <tr>\n",
       "      <th>1918.0</th>\n",
       "      <td>17.258065</td>\n",
       "    </tr>\n",
       "    <tr>\n",
       "      <th>1919.0</th>\n",
       "      <td>17.960067</td>\n",
       "    </tr>\n",
       "    <tr>\n",
       "      <th>1920.0</th>\n",
       "      <td>18.104625</td>\n",
       "    </tr>\n",
       "    <tr>\n",
       "      <th>1921.0</th>\n",
       "      <td>18.601541</td>\n",
       "    </tr>\n",
       "    <tr>\n",
       "      <th>1922.0</th>\n",
       "      <td>17.506434</td>\n",
       "    </tr>\n",
       "    <tr>\n",
       "      <th>1923.0</th>\n",
       "      <td>17.763033</td>\n",
       "    </tr>\n",
       "    <tr>\n",
       "      <th>1924.0</th>\n",
       "      <td>16.722654</td>\n",
       "    </tr>\n",
       "    <tr>\n",
       "      <th>1925.0</th>\n",
       "      <td>16.973134</td>\n",
       "    </tr>\n",
       "    <tr>\n",
       "      <th>...</th>\n",
       "      <td>...</td>\n",
       "    </tr>\n",
       "    <tr>\n",
       "      <th>1991.0</th>\n",
       "      <td>17.519664</td>\n",
       "    </tr>\n",
       "    <tr>\n",
       "      <th>1992.0</th>\n",
       "      <td>17.491779</td>\n",
       "    </tr>\n",
       "    <tr>\n",
       "      <th>1993.0</th>\n",
       "      <td>17.759845</td>\n",
       "    </tr>\n",
       "    <tr>\n",
       "      <th>1994.0</th>\n",
       "      <td>17.864697</td>\n",
       "    </tr>\n",
       "    <tr>\n",
       "      <th>1995.0</th>\n",
       "      <td>17.936623</td>\n",
       "    </tr>\n",
       "    <tr>\n",
       "      <th>1996.0</th>\n",
       "      <td>17.225019</td>\n",
       "    </tr>\n",
       "    <tr>\n",
       "      <th>1997.0</th>\n",
       "      <td>17.315509</td>\n",
       "    </tr>\n",
       "    <tr>\n",
       "      <th>1998.0</th>\n",
       "      <td>17.204205</td>\n",
       "    </tr>\n",
       "    <tr>\n",
       "      <th>1999.0</th>\n",
       "      <td>17.259927</td>\n",
       "    </tr>\n",
       "    <tr>\n",
       "      <th>2000.0</th>\n",
       "      <td>17.159537</td>\n",
       "    </tr>\n",
       "    <tr>\n",
       "      <th>2001.0</th>\n",
       "      <td>16.846154</td>\n",
       "    </tr>\n",
       "    <tr>\n",
       "      <th>2002.0</th>\n",
       "      <td>17.379330</td>\n",
       "    </tr>\n",
       "    <tr>\n",
       "      <th>2003.0</th>\n",
       "      <td>17.643186</td>\n",
       "    </tr>\n",
       "    <tr>\n",
       "      <th>2004.0</th>\n",
       "      <td>17.791583</td>\n",
       "    </tr>\n",
       "    <tr>\n",
       "      <th>2005.0</th>\n",
       "      <td>17.744302</td>\n",
       "    </tr>\n",
       "    <tr>\n",
       "      <th>2006.0</th>\n",
       "      <td>17.977120</td>\n",
       "    </tr>\n",
       "    <tr>\n",
       "      <th>2007.0</th>\n",
       "      <td>18.050720</td>\n",
       "    </tr>\n",
       "    <tr>\n",
       "      <th>2008.0</th>\n",
       "      <td>18.295723</td>\n",
       "    </tr>\n",
       "    <tr>\n",
       "      <th>2009.0</th>\n",
       "      <td>18.325758</td>\n",
       "    </tr>\n",
       "    <tr>\n",
       "      <th>2010.0</th>\n",
       "      <td>18.499407</td>\n",
       "    </tr>\n",
       "    <tr>\n",
       "      <th>2011.0</th>\n",
       "      <td>18.634678</td>\n",
       "    </tr>\n",
       "    <tr>\n",
       "      <th>2012.0</th>\n",
       "      <td>18.921450</td>\n",
       "    </tr>\n",
       "    <tr>\n",
       "      <th>2013.0</th>\n",
       "      <td>18.529974</td>\n",
       "    </tr>\n",
       "    <tr>\n",
       "      <th>2014.0</th>\n",
       "      <td>18.615776</td>\n",
       "    </tr>\n",
       "    <tr>\n",
       "      <th>2015.0</th>\n",
       "      <td>18.417286</td>\n",
       "    </tr>\n",
       "    <tr>\n",
       "      <th>2016.0</th>\n",
       "      <td>18.181319</td>\n",
       "    </tr>\n",
       "    <tr>\n",
       "      <th>2017.0</th>\n",
       "      <td>18.050609</td>\n",
       "    </tr>\n",
       "    <tr>\n",
       "      <th>2018.0</th>\n",
       "      <td>16.774729</td>\n",
       "    </tr>\n",
       "    <tr>\n",
       "      <th>2019.0</th>\n",
       "      <td>16.431481</td>\n",
       "    </tr>\n",
       "    <tr>\n",
       "      <th>2020.0</th>\n",
       "      <td>16.541096</td>\n",
       "    </tr>\n",
       "  </tbody>\n",
       "</table>\n",
       "<p>125 rows × 1 columns</p>\n",
       "</div>"
      ],
      "text/plain": [
       "        TITLE_len\n",
       "YEAR             \n",
       "1894.0  10.000000\n",
       "1897.0  39.000000\n",
       "1898.0  19.115385\n",
       "1899.0  34.583333\n",
       "1900.0  26.600000\n",
       "1901.0  31.333333\n",
       "1902.0  34.166667\n",
       "1903.0  21.000000\n",
       "1904.0  30.571429\n",
       "1905.0  28.388889\n",
       "1906.0  25.533333\n",
       "1907.0  22.333333\n",
       "1908.0  18.111111\n",
       "1909.0  22.808081\n",
       "1910.0  22.245455\n",
       "1911.0  20.433526\n",
       "1912.0  19.353403\n",
       "1913.0  19.556522\n",
       "1914.0  19.964286\n",
       "1915.0  18.237515\n",
       "1916.0  18.109576\n",
       "1917.0  17.234511\n",
       "1918.0  17.258065\n",
       "1919.0  17.960067\n",
       "1920.0  18.104625\n",
       "1921.0  18.601541\n",
       "1922.0  17.506434\n",
       "1923.0  17.763033\n",
       "1924.0  16.722654\n",
       "1925.0  16.973134\n",
       "...           ...\n",
       "1991.0  17.519664\n",
       "1992.0  17.491779\n",
       "1993.0  17.759845\n",
       "1994.0  17.864697\n",
       "1995.0  17.936623\n",
       "1996.0  17.225019\n",
       "1997.0  17.315509\n",
       "1998.0  17.204205\n",
       "1999.0  17.259927\n",
       "2000.0  17.159537\n",
       "2001.0  16.846154\n",
       "2002.0  17.379330\n",
       "2003.0  17.643186\n",
       "2004.0  17.791583\n",
       "2005.0  17.744302\n",
       "2006.0  17.977120\n",
       "2007.0  18.050720\n",
       "2008.0  18.295723\n",
       "2009.0  18.325758\n",
       "2010.0  18.499407\n",
       "2011.0  18.634678\n",
       "2012.0  18.921450\n",
       "2013.0  18.529974\n",
       "2014.0  18.615776\n",
       "2015.0  18.417286\n",
       "2016.0  18.181319\n",
       "2017.0  18.050609\n",
       "2018.0  16.774729\n",
       "2019.0  16.431481\n",
       "2020.0  16.541096\n",
       "\n",
       "[125 rows x 1 columns]"
      ]
     },
     "execution_count": 129,
     "metadata": {},
     "output_type": "execute_result"
    }
   ],
   "source": [
    "gb"
   ]
  },
  {
   "cell_type": "markdown",
   "metadata": {},
   "source": [
    "Визуализируем датасет"
   ]
  },
  {
   "cell_type": "code",
   "execution_count": 130,
   "metadata": {},
   "outputs": [
    {
     "data": {
      "text/plain": [
       "(0.0, 40.95)"
      ]
     },
     "execution_count": 130,
     "metadata": {},
     "output_type": "execute_result"
    },
    {
     "data": {
      "image/png": "[encoded data removed]",
      "text/plain": [
       "<Figure size 432x288 with 1 Axes>"
      ]
     },
     "metadata": {
      "needs_background": "light"
     },
     "output_type": "display_data"
    }
   ],
   "source": [
    "plt.bar(gb.index, gb['TITLE_len'])\n",
    "plt.ylim()"
   ]
  },
  {
   "cell_type": "markdown",
   "metadata": {},
   "source": [
    "Можно заметить что фильмы, снятые до 1920го года в среднем имеют длиннее названия чем более позднее. Давайте применим линейную регрессию чтобы получить линейную зависимость размера названия фильма от года его выпуска"
   ]
  },
  {
   "cell_type": "code",
   "execution_count": 133,
   "metadata": {},
   "outputs": [],
   "source": [
    "def get_linargs(x,y):\n",
    "    b1 = (np.mean(x * y) - np.mean(x) * np.mean(y)) / (np.mean(x ** 2) - np.mean(x) ** 2)\n",
    "    b0 = np.mean(y) - b1 * np.mean(x)\n",
    "    return b1, b0"
   ]
  },
  {
   "cell_type": "code",
   "execution_count": 135,
   "metadata": {},
   "outputs": [
    {
     "data": {
      "text/plain": [
       "(-0.04104047603776188, 98.7671784035158)"
      ]
     },
     "execution_count": 135,
     "metadata": {},
     "output_type": "execute_result"
    }
   ],
   "source": [
    "x1 = gb.index\n",
    "y1 = gb['TITLE_len']\n",
    "b11, b10 = get_linargs(x1, y1)\n",
    "b11, b10"
   ]
  },
  {
   "cell_type": "markdown",
   "metadata": {},
   "source": [
    "Чтож, мы получили линейное уравнение вида\n",
    "$$y = 98.7672 - 0.041 \\cdot x$$\n",
    "Визуализируем полученные результаты на графике еще раз:"
   ]
  },
  {
   "cell_type": "code",
   "execution_count": 175,
   "metadata": {},
   "outputs": [
    {
     "data": {
      "text/plain": [
       "(12, 40)"
      ]
     },
     "execution_count": 175,
     "metadata": {},
     "output_type": "execute_result"
    },
    {
     "data": {
      "image/png": "[encoded data removed]",
      "text/plain": [
       "<Figure size 432x288 with 1 Axes>"
      ]
     },
     "metadata": {
      "needs_background": "light"
     },
     "output_type": "display_data"
    }
   ],
   "source": [
    "plt.bar(x1, gb['TITLE_len'])\n",
    "plt.plot(x1, b10 + b11*x1, color='red')\n",
    "plt.ylim(12, 40)"
   ]
  },
  {
   "cell_type": "markdown",
   "metadata": {},
   "source": [
    "#### Оценка эффективности"
   ]
  },
  {
   "cell_type": "markdown",
   "metadata": {},
   "source": [
    "Оценим полученные результаты при помощи коэффециента детерминации $R_2$"
   ]
  },
  {
   "cell_type": "code",
   "execution_count": 109,
   "metadata": {},
   "outputs": [
    {
     "data": {
      "text/plain": [
       "0.155219187753868"
      ]
     },
     "execution_count": 109,
     "metadata": {},
     "output_type": "execute_result"
    }
   ],
   "source": [
    "from sklearn.metrics import r2_score\n",
    "r2_score(y1, b0 + b1*x1)"
   ]
  },
  {
   "cell_type": "markdown",
   "metadata": {},
   "source": [
    "Результат в 15% говорит о том что зависимость есть, но она минимальна."
   ]
  },
  {
   "cell_type": "markdown",
   "metadata": {},
   "source": [
    "#### Дальнейшие изыскания\n",
    "Современные фильмы чаще всего называются по формуле $$[название] [номер]: [пояснение \\ части]$$\n",
    "Давайте сделаем допущение что нас интересует лишь название фильма и мы отсечем пояснение части. Для этого отделим от названия всё что после \":\""
   ]
  },
  {
   "cell_type": "code",
   "execution_count": 137,
   "metadata": {},
   "outputs": [],
   "source": [
    "df['TITLE_len_split'] = np.array([len(i.split(\":\")[0]) for i in df['TITLE']])"
   ]
  },
  {
   "cell_type": "code",
   "execution_count": 138,
   "metadata": {},
   "outputs": [],
   "source": [
    "gb = df.groupby(['YEAR']).mean().drop(['RUNTIME'], axis=1)"
   ]
  },
  {
   "cell_type": "code",
   "execution_count": 171,
   "metadata": {},
   "outputs": [
    {
     "data": {
      "text/html": [
       "<div>\n",
       "<style scoped>\n",
       "    .dataframe tbody tr th:only-of-type {\n",
       "        vertical-align: middle;\n",
       "    }\n",
       "\n",
       "    .dataframe tbody tr th {\n",
       "        vertical-align: top;\n",
       "    }\n",
       "\n",
       "    .dataframe thead th {\n",
       "        text-align: right;\n",
       "    }\n",
       "</style>\n",
       "<table border=\"1\" class=\"dataframe\">\n",
       "  <thead>\n",
       "    <tr style=\"text-align: right;\">\n",
       "      <th></th>\n",
       "      <th>TITLE_len</th>\n",
       "      <th>TITLE_len_split</th>\n",
       "    </tr>\n",
       "    <tr>\n",
       "      <th>YEAR</th>\n",
       "      <th></th>\n",
       "      <th></th>\n",
       "    </tr>\n",
       "  </thead>\n",
       "  <tbody>\n",
       "    <tr>\n",
       "      <th>1894.0</th>\n",
       "      <td>10.000000</td>\n",
       "      <td>10.000000</td>\n",
       "    </tr>\n",
       "    <tr>\n",
       "      <th>1897.0</th>\n",
       "      <td>39.000000</td>\n",
       "      <td>39.000000</td>\n",
       "    </tr>\n",
       "    <tr>\n",
       "      <th>1898.0</th>\n",
       "      <td>19.115385</td>\n",
       "      <td>19.115385</td>\n",
       "    </tr>\n",
       "    <tr>\n",
       "      <th>1899.0</th>\n",
       "      <td>34.583333</td>\n",
       "      <td>34.583333</td>\n",
       "    </tr>\n",
       "    <tr>\n",
       "      <th>1900.0</th>\n",
       "      <td>26.600000</td>\n",
       "      <td>26.600000</td>\n",
       "    </tr>\n",
       "    <tr>\n",
       "      <th>1901.0</th>\n",
       "      <td>31.333333</td>\n",
       "      <td>31.333333</td>\n",
       "    </tr>\n",
       "    <tr>\n",
       "      <th>1902.0</th>\n",
       "      <td>34.166667</td>\n",
       "      <td>34.166667</td>\n",
       "    </tr>\n",
       "    <tr>\n",
       "      <th>1903.0</th>\n",
       "      <td>21.000000</td>\n",
       "      <td>19.727273</td>\n",
       "    </tr>\n",
       "    <tr>\n",
       "      <th>1904.0</th>\n",
       "      <td>30.571429</td>\n",
       "      <td>30.571429</td>\n",
       "    </tr>\n",
       "    <tr>\n",
       "      <th>1905.0</th>\n",
       "      <td>28.388889</td>\n",
       "      <td>28.388889</td>\n",
       "    </tr>\n",
       "    <tr>\n",
       "      <th>1906.0</th>\n",
       "      <td>25.533333</td>\n",
       "      <td>25.533333</td>\n",
       "    </tr>\n",
       "    <tr>\n",
       "      <th>1907.0</th>\n",
       "      <td>22.333333</td>\n",
       "      <td>22.333333</td>\n",
       "    </tr>\n",
       "    <tr>\n",
       "      <th>1908.0</th>\n",
       "      <td>18.111111</td>\n",
       "      <td>18.111111</td>\n",
       "    </tr>\n",
       "    <tr>\n",
       "      <th>1909.0</th>\n",
       "      <td>22.808081</td>\n",
       "      <td>22.101010</td>\n",
       "    </tr>\n",
       "    <tr>\n",
       "      <th>1910.0</th>\n",
       "      <td>22.245455</td>\n",
       "      <td>22.245455</td>\n",
       "    </tr>\n",
       "    <tr>\n",
       "      <th>1911.0</th>\n",
       "      <td>20.433526</td>\n",
       "      <td>20.254335</td>\n",
       "    </tr>\n",
       "    <tr>\n",
       "      <th>1912.0</th>\n",
       "      <td>19.353403</td>\n",
       "      <td>19.353403</td>\n",
       "    </tr>\n",
       "    <tr>\n",
       "      <th>1913.0</th>\n",
       "      <td>19.556522</td>\n",
       "      <td>19.324638</td>\n",
       "    </tr>\n",
       "    <tr>\n",
       "      <th>1914.0</th>\n",
       "      <td>19.964286</td>\n",
       "      <td>19.507840</td>\n",
       "    </tr>\n",
       "    <tr>\n",
       "      <th>1915.0</th>\n",
       "      <td>18.237515</td>\n",
       "      <td>18.063337</td>\n",
       "    </tr>\n",
       "    <tr>\n",
       "      <th>1916.0</th>\n",
       "      <td>18.109576</td>\n",
       "      <td>17.911863</td>\n",
       "    </tr>\n",
       "    <tr>\n",
       "      <th>1917.0</th>\n",
       "      <td>17.234511</td>\n",
       "      <td>17.163837</td>\n",
       "    </tr>\n",
       "    <tr>\n",
       "      <th>1918.0</th>\n",
       "      <td>17.258065</td>\n",
       "      <td>17.205645</td>\n",
       "    </tr>\n",
       "    <tr>\n",
       "      <th>1919.0</th>\n",
       "      <td>17.960067</td>\n",
       "      <td>17.722962</td>\n",
       "    </tr>\n",
       "    <tr>\n",
       "      <th>1920.0</th>\n",
       "      <td>18.104625</td>\n",
       "      <td>17.910917</td>\n",
       "    </tr>\n",
       "    <tr>\n",
       "      <th>1921.0</th>\n",
       "      <td>18.601541</td>\n",
       "      <td>18.421580</td>\n",
       "    </tr>\n",
       "    <tr>\n",
       "      <th>1922.0</th>\n",
       "      <td>17.506434</td>\n",
       "      <td>17.395221</td>\n",
       "    </tr>\n",
       "    <tr>\n",
       "      <th>1923.0</th>\n",
       "      <td>17.763033</td>\n",
       "      <td>17.605582</td>\n",
       "    </tr>\n",
       "    <tr>\n",
       "      <th>1924.0</th>\n",
       "      <td>16.722654</td>\n",
       "      <td>16.479005</td>\n",
       "    </tr>\n",
       "    <tr>\n",
       "      <th>1925.0</th>\n",
       "      <td>16.973134</td>\n",
       "      <td>16.593532</td>\n",
       "    </tr>\n",
       "    <tr>\n",
       "      <th>...</th>\n",
       "      <td>...</td>\n",
       "      <td>...</td>\n",
       "    </tr>\n",
       "    <tr>\n",
       "      <th>1991.0</th>\n",
       "      <td>17.519664</td>\n",
       "      <td>16.224338</td>\n",
       "    </tr>\n",
       "    <tr>\n",
       "      <th>1992.0</th>\n",
       "      <td>17.491779</td>\n",
       "      <td>16.033383</td>\n",
       "    </tr>\n",
       "    <tr>\n",
       "      <th>1993.0</th>\n",
       "      <td>17.759845</td>\n",
       "      <td>16.083938</td>\n",
       "    </tr>\n",
       "    <tr>\n",
       "      <th>1994.0</th>\n",
       "      <td>17.864697</td>\n",
       "      <td>15.978486</td>\n",
       "    </tr>\n",
       "    <tr>\n",
       "      <th>1995.0</th>\n",
       "      <td>17.936623</td>\n",
       "      <td>15.977455</td>\n",
       "    </tr>\n",
       "    <tr>\n",
       "      <th>1996.0</th>\n",
       "      <td>17.225019</td>\n",
       "      <td>15.572415</td>\n",
       "    </tr>\n",
       "    <tr>\n",
       "      <th>1997.0</th>\n",
       "      <td>17.315509</td>\n",
       "      <td>15.556944</td>\n",
       "    </tr>\n",
       "    <tr>\n",
       "      <th>1998.0</th>\n",
       "      <td>17.204205</td>\n",
       "      <td>15.607918</td>\n",
       "    </tr>\n",
       "    <tr>\n",
       "      <th>1999.0</th>\n",
       "      <td>17.259927</td>\n",
       "      <td>15.554411</td>\n",
       "    </tr>\n",
       "    <tr>\n",
       "      <th>2000.0</th>\n",
       "      <td>17.159537</td>\n",
       "      <td>15.494730</td>\n",
       "    </tr>\n",
       "    <tr>\n",
       "      <th>2001.0</th>\n",
       "      <td>16.846154</td>\n",
       "      <td>15.139860</td>\n",
       "    </tr>\n",
       "    <tr>\n",
       "      <th>2002.0</th>\n",
       "      <td>17.379330</td>\n",
       "      <td>15.347875</td>\n",
       "    </tr>\n",
       "    <tr>\n",
       "      <th>2003.0</th>\n",
       "      <td>17.643186</td>\n",
       "      <td>15.567398</td>\n",
       "    </tr>\n",
       "    <tr>\n",
       "      <th>2004.0</th>\n",
       "      <td>17.791583</td>\n",
       "      <td>15.406188</td>\n",
       "    </tr>\n",
       "    <tr>\n",
       "      <th>2005.0</th>\n",
       "      <td>17.744302</td>\n",
       "      <td>15.702513</td>\n",
       "    </tr>\n",
       "    <tr>\n",
       "      <th>2006.0</th>\n",
       "      <td>17.977120</td>\n",
       "      <td>15.535416</td>\n",
       "    </tr>\n",
       "    <tr>\n",
       "      <th>2007.0</th>\n",
       "      <td>18.050720</td>\n",
       "      <td>15.701816</td>\n",
       "    </tr>\n",
       "    <tr>\n",
       "      <th>2008.0</th>\n",
       "      <td>18.295723</td>\n",
       "      <td>15.804750</td>\n",
       "    </tr>\n",
       "    <tr>\n",
       "      <th>2009.0</th>\n",
       "      <td>18.325758</td>\n",
       "      <td>15.697700</td>\n",
       "    </tr>\n",
       "    <tr>\n",
       "      <th>2010.0</th>\n",
       "      <td>18.499407</td>\n",
       "      <td>15.992800</td>\n",
       "    </tr>\n",
       "    <tr>\n",
       "      <th>2011.0</th>\n",
       "      <td>18.634678</td>\n",
       "      <td>15.945163</td>\n",
       "    </tr>\n",
       "    <tr>\n",
       "      <th>2012.0</th>\n",
       "      <td>18.921450</td>\n",
       "      <td>16.130771</td>\n",
       "    </tr>\n",
       "    <tr>\n",
       "      <th>2013.0</th>\n",
       "      <td>18.529974</td>\n",
       "      <td>15.792981</td>\n",
       "    </tr>\n",
       "    <tr>\n",
       "      <th>2014.0</th>\n",
       "      <td>18.615776</td>\n",
       "      <td>15.771670</td>\n",
       "    </tr>\n",
       "    <tr>\n",
       "      <th>2015.0</th>\n",
       "      <td>18.417286</td>\n",
       "      <td>15.668834</td>\n",
       "    </tr>\n",
       "    <tr>\n",
       "      <th>2016.0</th>\n",
       "      <td>18.181319</td>\n",
       "      <td>15.647361</td>\n",
       "    </tr>\n",
       "    <tr>\n",
       "      <th>2017.0</th>\n",
       "      <td>18.050609</td>\n",
       "      <td>15.383116</td>\n",
       "    </tr>\n",
       "    <tr>\n",
       "      <th>2018.0</th>\n",
       "      <td>16.774729</td>\n",
       "      <td>14.865157</td>\n",
       "    </tr>\n",
       "    <tr>\n",
       "      <th>2019.0</th>\n",
       "      <td>16.431481</td>\n",
       "      <td>14.708796</td>\n",
       "    </tr>\n",
       "    <tr>\n",
       "      <th>2020.0</th>\n",
       "      <td>16.541096</td>\n",
       "      <td>15.390411</td>\n",
       "    </tr>\n",
       "  </tbody>\n",
       "</table>\n",
       "<p>125 rows × 2 columns</p>\n",
       "</div>"
      ],
      "text/plain": [
       "        TITLE_len  TITLE_len_split\n",
       "YEAR                              \n",
       "1894.0  10.000000        10.000000\n",
       "1897.0  39.000000        39.000000\n",
       "1898.0  19.115385        19.115385\n",
       "1899.0  34.583333        34.583333\n",
       "1900.0  26.600000        26.600000\n",
       "1901.0  31.333333        31.333333\n",
       "1902.0  34.166667        34.166667\n",
       "1903.0  21.000000        19.727273\n",
       "1904.0  30.571429        30.571429\n",
       "1905.0  28.388889        28.388889\n",
       "1906.0  25.533333        25.533333\n",
       "1907.0  22.333333        22.333333\n",
       "1908.0  18.111111        18.111111\n",
       "1909.0  22.808081        22.101010\n",
       "1910.0  22.245455        22.245455\n",
       "1911.0  20.433526        20.254335\n",
       "1912.0  19.353403        19.353403\n",
       "1913.0  19.556522        19.324638\n",
       "1914.0  19.964286        19.507840\n",
       "1915.0  18.237515        18.063337\n",
       "1916.0  18.109576        17.911863\n",
       "1917.0  17.234511        17.163837\n",
       "1918.0  17.258065        17.205645\n",
       "1919.0  17.960067        17.722962\n",
       "1920.0  18.104625        17.910917\n",
       "1921.0  18.601541        18.421580\n",
       "1922.0  17.506434        17.395221\n",
       "1923.0  17.763033        17.605582\n",
       "1924.0  16.722654        16.479005\n",
       "1925.0  16.973134        16.593532\n",
       "...           ...              ...\n",
       "1991.0  17.519664        16.224338\n",
       "1992.0  17.491779        16.033383\n",
       "1993.0  17.759845        16.083938\n",
       "1994.0  17.864697        15.978486\n",
       "1995.0  17.936623        15.977455\n",
       "1996.0  17.225019        15.572415\n",
       "1997.0  17.315509        15.556944\n",
       "1998.0  17.204205        15.607918\n",
       "1999.0  17.259927        15.554411\n",
       "2000.0  17.159537        15.494730\n",
       "2001.0  16.846154        15.139860\n",
       "2002.0  17.379330        15.347875\n",
       "2003.0  17.643186        15.567398\n",
       "2004.0  17.791583        15.406188\n",
       "2005.0  17.744302        15.702513\n",
       "2006.0  17.977120        15.535416\n",
       "2007.0  18.050720        15.701816\n",
       "2008.0  18.295723        15.804750\n",
       "2009.0  18.325758        15.697700\n",
       "2010.0  18.499407        15.992800\n",
       "2011.0  18.634678        15.945163\n",
       "2012.0  18.921450        16.130771\n",
       "2013.0  18.529974        15.792981\n",
       "2014.0  18.615776        15.771670\n",
       "2015.0  18.417286        15.668834\n",
       "2016.0  18.181319        15.647361\n",
       "2017.0  18.050609        15.383116\n",
       "2018.0  16.774729        14.865157\n",
       "2019.0  16.431481        14.708796\n",
       "2020.0  16.541096        15.390411\n",
       "\n",
       "[125 rows x 2 columns]"
      ]
     },
     "execution_count": 171,
     "metadata": {},
     "output_type": "execute_result"
    }
   ],
   "source": [
    "gb"
   ]
  },
  {
   "cell_type": "markdown",
   "metadata": {},
   "source": [
    "Используем регрессионную модель"
   ]
  },
  {
   "cell_type": "code",
   "execution_count": 173,
   "metadata": {},
   "outputs": [
    {
     "data": {
      "text/plain": [
       "(-0.060493870444717955, 136.08076478942684)"
      ]
     },
     "execution_count": 173,
     "metadata": {},
     "output_type": "execute_result"
    }
   ],
   "source": [
    "x2 = gb.index\n",
    "y2 = gb['TITLE_len_split']\n",
    "b21, b20 = get_linargs(x2, y2)\n",
    "b21, b20"
   ]
  },
  {
   "cell_type": "markdown",
   "metadata": {},
   "source": [
    "И вычислим коэффециент детерминации"
   ]
  },
  {
   "cell_type": "code",
   "execution_count": 174,
   "metadata": {},
   "outputs": [
    {
     "data": {
      "text/plain": [
       "0.30140122278219206"
      ]
     },
     "execution_count": 174,
     "metadata": {},
     "output_type": "execute_result"
    }
   ],
   "source": [
    "r2_score(y2, b20 + b21*x2)"
   ]
  },
  {
   "cell_type": "markdown",
   "metadata": {},
   "source": [
    "Результат куда более интересен. Давайте сравним два результата графически:"
   ]
  },
  {
   "cell_type": "code",
   "execution_count": 165,
   "metadata": {},
   "outputs": [
    {
     "data": {
      "text/plain": [
       "(13, 40)"
      ]
     },
     "execution_count": 165,
     "metadata": {},
     "output_type": "execute_result"
    },
    {
     "data": {
      "image/png": "[encoded data removed]",
      "text/plain": [
       "<Figure size 432x288 with 1 Axes>"
      ]
     },
     "metadata": {
      "needs_background": "light"
     },
     "output_type": "display_data"
    }
   ],
   "source": [
    "plt.bar(x1, y1, color='yellow', label='длина назвения фильма с частью')\n",
    "plt.bar(x2, y2, color='grey', label='длина назвения фильма без части')\n",
    "plt.plot(x1, b10 + b11*x1, color='red', label='y=98.7672−0.041⋅x')\n",
    "plt.plot(x2, b20 + b21*x2, color='purple', label='y=136.08−0.06⋅x')\n",
    "plt.legend()\n",
    "plt.ylim(13, 40)"
   ]
  },
  {
   "cell_type": "markdown",
   "metadata": {},
   "source": [
    "Какой я могу вывести результат - \n",
    "если обрезать название фильма до слов до символа \":\" то выдвинутая гипотеза сходится: <br/> __Чем моложе фильм, тем короче его название__"
   ]
  },
  {
   "cell_type": "code",
   "execution_count": 183,
   "metadata": {},
   "outputs": [],
   "source": [
    "df = pd.read_csv(tsv_path)\n",
    "df.dropna(subset=['GENRE'], inplace=True)"
   ]
  },
  {
   "cell_type": "code",
   "execution_count": 184,
   "metadata": {},
   "outputs": [
    {
     "name": "stdout",
     "output_type": "stream",
     "text": [
      "<class 'pandas.core.frame.DataFrame'>\n",
      "Int64Index: 414531 entries, 0 to 487627\n",
      "Data columns (total 5 columns):\n",
      "ID         414531 non-null object\n",
      "TITLE      414531 non-null object\n",
      "YEAR       369431 non-null float64\n",
      "RUNTIME    281955 non-null float64\n",
      "GENRE      414531 non-null object\n",
      "dtypes: float64(2), object(3)\n",
      "memory usage: 19.0+ MB\n"
     ]
    }
   ],
   "source": [
    "df.info()"
   ]
  },
  {
   "cell_type": "code",
   "execution_count": 188,
   "metadata": {},
   "outputs": [
    {
     "data": {
      "text/plain": [
       "{'Action',\n",
       " 'Adult',\n",
       " 'Adventure',\n",
       " 'Animation',\n",
       " 'Biography',\n",
       " 'Comedy',\n",
       " 'Crime',\n",
       " 'Documentary',\n",
       " 'Drama',\n",
       " 'Family',\n",
       " 'Fantasy',\n",
       " 'Film-Noir',\n",
       " 'Game-Show',\n",
       " 'History',\n",
       " 'Horror',\n",
       " 'Music',\n",
       " 'Musical',\n",
       " 'Mystery',\n",
       " 'News',\n",
       " 'Reality-TV',\n",
       " 'Romance',\n",
       " 'Sci-Fi',\n",
       " 'Short',\n",
       " 'Sport',\n",
       " 'Talk-Show',\n",
       " 'Thriller',\n",
       " 'War',\n",
       " 'Western'}"
      ]
     },
     "execution_count": 188,
     "metadata": {},
     "output_type": "execute_result"
    }
   ],
   "source": [
    "genres = set()\n",
    "for line in df.GENRE:\n",
    "    for g in line.split(','):\n",
    "        genres.add(g)\n",
    "genres"
   ]
  },
  {
   "cell_type": "code",
   "execution_count": null,
   "metadata": {},
   "outputs": [],
   "source": []
  }
 ],
 "metadata": {
  "kernelspec": {
   "display_name": "Python 3",
   "language": "python",
   "name": "python3"
  },
  "language_info": {
   "codemirror_mode": {
    "name": "ipython",
    "version": 3
   },
   "file_extension": ".py",
   "mimetype": "text/x-python",
   "name": "python",
   "nbconvert_exporter": "python",
   "pygments_lexer": "ipython3",
   "version": "3.7.1"
  }
 },
 "nbformat": 4,
 "nbformat_minor": 2
}
