{
 "cells": [
  {
   "cell_type": "markdown",
   "metadata": {},
   "source": [
    "# Теория вероятностей и математическая статистика\n",
    "## Домашнее задание по уроку 4"
   ]
  },
  {
   "cell_type": "code",
   "execution_count": 15,
   "metadata": {},
   "outputs": [],
   "source": [
    "%matplotlib inline\n",
    "import numpy as np\n",
    "import matplotlib.pyplot as plt\n",
    "import scipy.integrate as integrate"
   ]
  },
  {
   "cell_type": "markdown",
   "metadata": {},
   "source": [
    "#### Задача 1\n",
    "\n",
    "О непрерывной равномерно распределенной случайной величине $B$ известно, что ее дисперсия равна $0.2$. Можно ли найти правую границу величины $B$ и ее среднее значение зная, что левая граница равна $0.5$ ? Если да, найдите ее."
   ]
  },
  {
   "cell_type": "markdown",
   "metadata": {},
   "source": [
    "##### Решение\n",
    "Пусть `a` - левая граница непрерывной равномерно распределенной случайной величины и `D(B)` - ее дисперсия.\n",
    "Для непрерывной равномерно распределенной случайной величины дисперсия вичисляется по следующей формуле:\n",
    "$$D(B) = \\frac{(b - a)^2}{12}$$\n",
    "Раз нам известна левая граница и дисперсия, мы можем вычислить правую границу `b` и, следовательно, среднее `M`:\n"
   ]
  },
  {
   "cell_type": "markdown",
   "metadata": {},
   "source": [
    "$$D(B) = \\frac{(b - a)^2}{12} => (b - a)^2 = 12 \\cdot D(B) => \\\\ \n",
    "=> b = 2 \\sqrt{3D(B)} + a$$\n",
    "$$M = \\frac{(a+b)}{2}$$"
   ]
  },
  {
   "cell_type": "code",
   "execution_count": 4,
   "metadata": {},
   "outputs": [
    {
     "name": "stdout",
     "output_type": "stream",
     "text": [
      "b = 2.049193338482967\n",
      "M = 1.2745966692414834\n"
     ]
    }
   ],
   "source": [
    "a = 0.5\n",
    "D = 0.2\n",
    "b = (12 * D)**0.5 + a\n",
    "M = (a + b)/2\n",
    "print(f\"b = {b}\\nM = {M}\")"
   ]
  },
  {
   "cell_type": "markdown",
   "metadata": {},
   "source": [
    "#### Задача 2\n",
    "\n",
    "На сколько сигм (средних квадратических отклонений) отклоняется рост человека, равный $190 см$, от математического ожидания роста в популяции, в которой $M(X) = 178$ и $D(X) = 25$?"
   ]
  },
  {
   "cell_type": "markdown",
   "metadata": {},
   "source": [
    "Построим для наглядности функцию нормального распределения исходя из имеющихся `M(X)` и `D(X)`:"
   ]
  },
  {
   "cell_type": "code",
   "execution_count": 35,
   "metadata": {},
   "outputs": [],
   "source": [
    "x = np.linspace(160,200, 1000)"
   ]
  },
  {
   "cell_type": "markdown",
   "metadata": {},
   "source": [
    "$$f(x) = \\frac{1}{\\sigma \\sqrt{2 \\pi}} e ^ {- \\frac{(x - a)^2}{2 \\sigma^2}},$$"
   ]
  },
  {
   "cell_type": "code",
   "execution_count": 40,
   "metadata": {},
   "outputs": [
    {
     "data": {
      "text/plain": [
       "<matplotlib.lines.Line2D at 0x7f68080e3208>"
      ]
     },
     "execution_count": 40,
     "metadata": {},
     "output_type": "execute_result"
    },
    {
     "data": {
      "image/png": "[encoded data removed]",
      "text/plain": [
       "<Figure size 432x288 with 1 Axes>"
      ]
     },
     "metadata": {
      "needs_background": "light"
     },
     "output_type": "display_data"
    }
   ],
   "source": [
    "def f(x, M, D):\n",
    "    a = M\n",
    "    sig = D**0.5\n",
    "    return np.exp(-(x - a)**2 / (2*D)) / (sig * (2 * np.pi)**0.5)\n",
    "\n",
    "M = 178\n",
    "D = 25\n",
    "\n",
    "# Функция распределения:\n",
    "plt.plot(x, f(x, M, D))\n",
    "\n",
    "plt.axvline(M + 2*D**0.5, ls=':', label=\"2sig\")\n",
    "plt.axvline(190, ls='--', label=\"190\")\n",
    "plt.axvline(M + 3*D**0.5, ls=':', label=\"3sig\")"
   ]
  },
  {
   "cell_type": "markdown",
   "metadata": {},
   "source": [
    "Значит искомая точка $(190см)$ отклоняется в пределах $[2\\sigma , 3\\sigma ]$\n",
    "Подсчитаем точно:"
   ]
  },
  {
   "cell_type": "code",
   "execution_count": 37,
   "metadata": {},
   "outputs": [
    {
     "data": {
      "text/plain": [
       "2.4"
      ]
     },
     "execution_count": 37,
     "metadata": {},
     "output_type": "execute_result"
    }
   ],
   "source": [
    "X = 190\n",
    "\n",
    "ans = (X - M) / D**0.5\n",
    "ans"
   ]
  },
  {
   "cell_type": "markdown",
   "metadata": {},
   "source": [
    "#### Задача 3\n",
    "\n",
    "Рост взрослого населения города X имеет нормальное распределение, причем, средний рост равен $174 см$, а среднее квадратическое отклонение равно $8 см$. Какова вероятность того, что случайным образом выбранный взрослый человек имеет рост:\n",
    "1. больше 182 см?\n",
    "2. больше 190 см?\n",
    "3. от 166 см до 190 см?\n",
    "4. от 166 см до 182 см?\n",
    "5. от 158 см до 190 см?\n",
    "6. не выше 150 см или не ниже 190 см?\n",
    "7. не выше 150 см или не ниже 198 см?\n",
    "8. ниже 166 см?"
   ]
  },
  {
   "cell_type": "markdown",
   "metadata": {},
   "source": [
    "Фактически, для нахождения вероятности в каждом из случаев необходимо проиндегрировать функцию нормального распределения в заданных пределах:"
   ]
  },
  {
   "cell_type": "code",
   "execution_count": 41,
   "metadata": {},
   "outputs": [],
   "source": [
    "def f(x):\n",
    "    a = 174\n",
    "    sig = 8 \n",
    "    return np.exp(-(x - a)**2 / (2*D)) / (sig * (2 * np.pi)**0.5)\n"
   ]
  },
  {
   "cell_type": "markdown",
   "metadata": {},
   "source": [
    "## Задача 3 еще не доделана, но я ее обновлю по мере выполнения"
   ]
  }
 ],
 "metadata": {
  "kernelspec": {
   "display_name": "Python 3",
   "language": "python",
   "name": "python3"
  },
  "language_info": {
   "codemirror_mode": {
    "name": "ipython",
    "version": 3
   },
   "file_extension": ".py",
   "mimetype": "text/x-python",
   "name": "python",
   "nbconvert_exporter": "python",
   "pygments_lexer": "ipython3",
   "version": "3.7.1"
  }
 },
 "nbformat": 4,
 "nbformat_minor": 2
}
