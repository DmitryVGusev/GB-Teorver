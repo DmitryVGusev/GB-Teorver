{
 "cells": [
  {
   "cell_type": "markdown",
   "metadata": {},
   "source": [
    "## Домашнее задание по уроку 3"
   ]
  },
  {
   "cell_type": "code",
   "execution_count": 37,
   "metadata": {},
   "outputs": [],
   "source": [
    "import numpy as np\n",
    "import pandas as pd\n",
    "from matplotlib import pyplot as plt"
   ]
  },
  {
   "cell_type": "markdown",
   "metadata": {},
   "source": [
    "### Задача 1\n",
    "Даны значения зарплат из выборки выпускников:\n",
    "\n",
    "$$100, 80, 75, 77, 89, 33, 45, 25, 65, 17, 30, 24, 57, 55, 70, 75, 65, 84, 90, 150$$\n",
    "\n",
    "Без использования статистических функций вроде $mean$, $std$, $var$, посчитать среднее арифметическое, среднее квадратичное отклонение, смещенную и несмещенную оценки дисперсий для данной выборки.\n",
    "\n",
    "Можно затем посчитать те же значения с использованием статистических функций, чтобы проверить себя."
   ]
  },
  {
   "cell_type": "markdown",
   "metadata": {},
   "source": [
    "#### Решение\n",
    "Заполним массив"
   ]
  },
  {
   "cell_type": "code",
   "execution_count": 71,
   "metadata": {},
   "outputs": [
    {
     "data": {
      "text/plain": [
       "0     100\n",
       "1      80\n",
       "2      75\n",
       "3      77\n",
       "4      89\n",
       "5      33\n",
       "6      45\n",
       "7      25\n",
       "8      65\n",
       "9      17\n",
       "10     30\n",
       "11     24\n",
       "12     57\n",
       "13     55\n",
       "14     70\n",
       "15     75\n",
       "16     65\n",
       "17     84\n",
       "18     90\n",
       "19    150\n",
       "dtype: int64"
      ]
     },
     "execution_count": 71,
     "metadata": {},
     "output_type": "execute_result"
    }
   ],
   "source": [
    "sal = pd.Series([\n",
    "    100,80,75,77,89,33,45,25,65,17,30,24,57,55,70,75,65,84,90,150\n",
    "])\n",
    "sal"
   ]
  },
  {
   "cell_type": "markdown",
   "metadata": {},
   "source": [
    "Найдем среднее арифметическое и сравним с результатом выполнения статистической функции:"
   ]
  },
  {
   "cell_type": "code",
   "execution_count": 86,
   "metadata": {},
   "outputs": [
    {
     "name": "stdout",
     "output_type": "stream",
     "text": [
      "Результат: 65.3\n",
      "Используя mean: 65.3\n"
     ]
    }
   ],
   "source": [
    "mean = sal.sum() / sal.count()\n",
    "print(f\"Результат: {mean}\")\n",
    "print(f\"Используя mean: {sal.mean()}\")"
   ]
  },
  {
   "cell_type": "markdown",
   "metadata": {},
   "source": [
    "Среднее квадратичное отклонение:"
   ]
  },
  {
   "cell_type": "code",
   "execution_count": 89,
   "metadata": {},
   "outputs": [
    {
     "name": "stdout",
     "output_type": "stream",
     "text": [
      "Результат: 30.823854398825596\n",
      "Используя std: 30.823854398825596\n"
     ]
    }
   ],
   "source": [
    "std = np.sqrt(((sal - mean) ** 2).sum() / sal.count())\n",
    "print(f\"Результат: {std}\")\n",
    "print(f\"Используя std: {sal.std(ddof=0)}\")"
   ]
  },
  {
   "cell_type": "markdown",
   "metadata": {},
   "source": [
    "Смещенная и несмещенная оценка дисперсии:"
   ]
  },
  {
   "cell_type": "code",
   "execution_count": 66,
   "metadata": {},
   "outputs": [
    {
     "name": "stdout",
     "output_type": "stream",
     "text": [
      "Результат: [950.11, 1000.1157894736842]\n",
      "Используя var: [950.11, 1000.1157894736842]\n"
     ]
    }
   ],
   "source": [
    "var0 = ((sal - mean)**2).sum() / sal.count()  # смещенная\n",
    "var1 = ((sal - mean)**2).sum() / (sal.count() - 1)  # несмещенная\n",
    "print(f\"Результат: {[var0,var1]}\")\n",
    "print(f\"Используя var: {[sal.var(ddof=0), sal.var(ddof=1)]}\")"
   ]
  },
  {
   "cell_type": "markdown",
   "metadata": {},
   "source": [
    "### Задача 2\n",
    "\n",
    "Для выборки из задачи 1 найти первый и третий квартили, интерквартильное расстояние. Найти выборсы в выборке, используя для этого \"усы\" из $boxplot$. В этой задаче можно использовать статистические функции."
   ]
  },
  {
   "cell_type": "markdown",
   "metadata": {},
   "source": [
    "#### Решение\n",
    "Для начала, визуализируем данные, используя `boxplot`:"
   ]
  },
  {
   "cell_type": "code",
   "execution_count": 78,
   "metadata": {},
   "outputs": [
    {
     "data": {
      "text/plain": [
       "{'whiskers': [<matplotlib.lines.Line2D at 0x118fdd8d0>,\n",
       "  <matplotlib.lines.Line2D at 0x118fddc18>],\n",
       " 'caps': [<matplotlib.lines.Line2D at 0x118fddf60>,\n",
       "  <matplotlib.lines.Line2D at 0x118fcc2e8>],\n",
       " 'boxes': [<matplotlib.lines.Line2D at 0x118fdd4a8>],\n",
       " 'medians': [<matplotlib.lines.Line2D at 0x118fcc630>],\n",
       " 'fliers': [<matplotlib.lines.Line2D at 0x118fcc978>],\n",
       " 'means': []}"
      ]
     },
     "execution_count": 78,
     "metadata": {},
     "output_type": "execute_result"
    },
    {
     "data": {
      "image/png": "[encoded data removed]",
      "text/plain": [
       "<Figure size 432x288 with 1 Axes>"
      ]
     },
     "metadata": {
      "needs_background": "light"
     },
     "output_type": "display_data"
    }
   ],
   "source": [
    "fig1, ax1 = plt.subplots()\n",
    "ax1.set_title('Basic Plot')\n",
    "ax1.boxplot(sal)"
   ]
  },
  {
   "cell_type": "markdown",
   "metadata": {},
   "source": [
    "Подсчитаем первую и третью квантили:"
   ]
  },
  {
   "cell_type": "code",
   "execution_count": 67,
   "metadata": {},
   "outputs": [
    {
     "data": {
      "text/plain": [
       "(42.0, 81.0)"
      ]
     },
     "execution_count": 67,
     "metadata": {},
     "output_type": "execute_result"
    }
   ],
   "source": [
    "q1 = sal.quantile(0.25)\n",
    "q3 = sal.quantile(0.75)\n",
    "q1,q3"
   ]
  },
  {
   "cell_type": "markdown",
   "metadata": {},
   "source": [
    "Вычислим интерквартильное расстояние:"
   ]
  },
  {
   "cell_type": "code",
   "execution_count": 79,
   "metadata": {},
   "outputs": [
    {
     "data": {
      "text/plain": [
       "39.0"
      ]
     },
     "execution_count": 79,
     "metadata": {},
     "output_type": "execute_result"
    }
   ],
   "source": [
    "iqr = q3 - q1\n",
    "iqr"
   ]
  },
  {
   "cell_type": "markdown",
   "metadata": {},
   "source": [
    "Найдем выбросы в выборке:"
   ]
  },
  {
   "cell_type": "code",
   "execution_count": 84,
   "metadata": {},
   "outputs": [
    {
     "data": {
      "text/plain": [
       "19    150\n",
       "dtype: int64"
      ]
     },
     "execution_count": 84,
     "metadata": {},
     "output_type": "execute_result"
    }
   ],
   "source": [
    "boxplot_range = (q1 - 1.5 * iqr, q3 + 1.5 * iqr)\n",
    "outliers = sal.loc[(sal < boxplot_range[0]) | (sal > boxplot_range[1])]\n",
    "outliers"
   ]
  },
  {
   "cell_type": "markdown",
   "metadata": {},
   "source": [
    "Доля выбросов в выборке:"
   ]
  },
  {
   "cell_type": "code",
   "execution_count": 80,
   "metadata": {},
   "outputs": [
    {
     "data": {
      "text/plain": [
       "0.05"
      ]
     },
     "execution_count": 80,
     "metadata": {},
     "output_type": "execute_result"
    }
   ],
   "source": [
    "outliers.shape[0] / sal.shape[0]"
   ]
  },
  {
   "cell_type": "markdown",
   "metadata": {},
   "source": [
    "### Задача 3\n",
    "\n",
    "В университет на факультеты `A` и `B` поступило равное количество студентов, а на факультет `C` студентов поступило столько же, сколько на `A` и `B` вместе. Вероятность того, что студент факультета `A` сдаст первую сессию, равна 0.8. Для студента факультета `B` эта вероятность равна 0.7, а для студента факультета `C` - 0.9. Студент сдал первую сессию. Какова вероятность, что он учится: a) на факультете `A`? б) на факультете `B`? в) на факультете `C`?"
   ]
  },
  {
   "cell_type": "markdown",
   "metadata": {},
   "source": [
    "#### Решение\n",
    "Пусть событие `A` заключается в том, что студент сдал первую сессию. \n",
    "Кроме того, пусть для каждого $i \\in \\{ A,B,C \\}$ событие $B_i$ заключается в том, что сессию сдал студент с $i$-го факультета.\n",
    "В такой формулировке наша задача - поочередно найти вероятность $P(B_A | A)$, $P(B_B | A)$, $P(B_C | A)$.\n",
    "$$ P(B_A\\:|\\:A) = \\frac{P(A\\:|\\:B_A) \\cdot P(B_A)}{P(A)} $$\n",
    "$$ P(B_B\\:|\\:A) = \\frac{P(A\\:|\\:B_B) \\cdot P(B_B)}{P(A)} $$\n",
    "$$ P(B_C\\:|\\:A) = \\frac{P(A\\:|\\:B_C) \\cdot P(B_C)}{P(A)} $$\n",
    "\n",
    "при том, что нам известна вероятность сдачи студентов каждого факультета:\n",
    "\n",
    "$$ P(A\\:|\\:B_A) = 0.8 $$\n",
    "$$ P(A\\:|\\:B_B) = 0.7 $$\n",
    "$$ P(A\\:|\\:B_C) = 0.9 $$\n",
    "\n",
    "Общая вероятность сдачи сессии:\n",
    "$$P(A) = P(B_A) \\cdot P(A | B_A) + P(B_B) \\cdot P(A | B_B) + P(B_C) \\cdot P(A | B_C) = $$\n",
    "$$= \\dfrac{1}{4} \\cdot 0.8 + \\dfrac{1}{4} \\cdot 0.7 + \\dfrac{1}{2} \\cdot 0.9 = 0.825$$\n",
    "\n",
    "Подставляя значение в каждое уравнение:\n",
    "$$ P(B_A\\:|\\:A) = \\frac{0.25 \\cdot 0.8}{0.825} = 0.24 $$\n",
    "$$ P(B_B\\:|\\:A) = \\frac{0.25 \\cdot 0.7}{0.825} = 0.21 $$\n",
    "$$ P(B_C\\:|\\:A) = \\frac{0.5 \\cdot 0.9}{0.825} = 0.545 $$\n"
   ]
  }
 ],
 "metadata": {
  "kernelspec": {
   "display_name": "Python 3",
   "language": "python",
   "name": "python3"
  },
  "language_info": {
   "codemirror_mode": {
    "name": "ipython",
    "version": 3
   },
   "file_extension": ".py",
   "mimetype": "text/x-python",
   "name": "python",
   "nbconvert_exporter": "python",
   "pygments_lexer": "ipython3",
   "version": "3.7.1"
  }
 },
 "nbformat": 4,
 "nbformat_minor": 2
}
