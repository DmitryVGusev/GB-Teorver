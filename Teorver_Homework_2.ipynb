{
 "cells": [
  {
   "cell_type": "markdown",
   "metadata": {},
   "source": [
    "## Домашнее задание по уроку 1"
   ]
  },
  {
   "cell_type": "code",
   "execution_count": 6,
   "metadata": {},
   "outputs": [],
   "source": [
    "import numpy as np\n",
    "import scipy.special as ss"
   ]
  },
  {
   "cell_type": "markdown",
   "metadata": {},
   "source": [
    "### Задача 1\n",
    "\n",
    "Контрольная работа состоит из пяти вопросов. На каждый вопрос приведено четыре варианта ответа, один из которых правильный. Составьте закон распределения числа правильных ответов при простом угадывании. Найдите $M(X)$, $D(X)$."
   ]
  },
  {
   "cell_type": "markdown",
   "metadata": {},
   "source": [
    "#### Решение\n",
    "Используем формулу Бернулли для вычисления закона распределения.\n",
    "$$P(X = k) = C_n^k \\cdot (1-p)^{n-k} \\cdot p^k$$\n",
    "\n",
    "$k$ - количество правильно отвеченых вопросов,\n",
    "\n",
    "$p$ - вероятность верного ответа = $\\frac{1}{4}$\n",
    "\n",
    "$n$ - количество вопросов в контрольной"
   ]
  },
  {
   "cell_type": "markdown",
   "metadata": {},
   "source": [
    "Математическое ожидание определяется по формуле\n",
    "$$M(X)=n \\cdot p$$\n",
    "Дисперсия:\n",
    "$$D(X)=n \\cdot p \\cdot (1-p)$$"
   ]
  },
  {
   "cell_type": "code",
   "execution_count": 37,
   "metadata": {
    "scrolled": true
   },
   "outputs": [
    {
     "name": "stdout",
     "output_type": "stream",
     "text": [
      "Распределение числа правильных ответов при простом угадывании:\n",
      "P(X=0) = 0.2373046875\n",
      "P(X=1) = 0.3955078125\n",
      "P(X=2) = 0.263671875\n",
      "P(X=3) = 0.087890625\n",
      "P(X=4) = 0.0146484375\n",
      "P(X=5) = 0.0009765625\n",
      "\n",
      "Мат. ожидание и дисперсия:\n",
      "M(X) = 1.25\n",
      "D(X) = 0.9375\n"
     ]
    }
   ],
   "source": [
    " def P(n,p):\n",
    "    \"\"\"Выводит распределение правильных ответов, мат. ожидание и дисперсию \"\"\"\n",
    "    ans = {k : ss.binom(n,k) * (1-p)**(n-k) * p**k for k in range(n+1)}\n",
    "    print(\"Распределение числа правильных ответов при простом угадывании:\")\n",
    "    for key, val in ans.items():\n",
    "        print(f\"P(X={key}) = {val}\")\n",
    "        \n",
    "    print(\"\\nМат. ожидание и дисперсия:\")\n",
    "    print(f\"M(X) = {n*p}\")\n",
    "    print(f\"D(X) = {n*p*(1-p)}\")\n",
    "\n",
    "P(5,1/4)"
   ]
  },
  {
   "cell_type": "markdown",
   "metadata": {},
   "source": [
    "### Задача 2\n",
    "\n",
    "Вероятность попадания в цель при одном выстреле равна 0.01. Какова вероятность того, что число попаданий при 200 выстрелах будет не менее 5 и не более 10?"
   ]
  },
  {
   "cell_type": "markdown",
   "metadata": {},
   "source": [
    "#### Решение\n",
    "Давайте просуммируем интересующие нас вероятности по формуле Бернулли:\n",
    "    $$P = \\sum_{i=5}^{9} P(i) = P(X=5) + P(X=6) + P(X=7) + P(X=8) + P(X=9)$$\n",
    "при $p$ = 0.01, $n$ = 200"
   ]
  },
  {
   "cell_type": "code",
   "execution_count": 78,
   "metadata": {
    "scrolled": true
   },
   "outputs": [
    {
     "name": "stdout",
     "output_type": "stream",
     "text": [
      "P = 0.05170612182193867\n"
     ]
    }
   ],
   "source": [
    "P = lambda k,n,p :  ss.binom(n,k) * (1-p)**(n-k) * p**k\n",
    "\n",
    "p = 0.01\n",
    "n = 200\n",
    "ans = 0\n",
    "for k in range(5,10):\n",
    "     ans += P(k, n, p) \n",
    "\n",
    "print(f\"P = {ans}\")"
   ]
  },
  {
   "cell_type": "markdown",
   "metadata": {},
   "source": [
    "А если используем формулу Пуассона:\n"
   ]
  },
  {
   "cell_type": "code",
   "execution_count": 79,
   "metadata": {},
   "outputs": [
    {
     "name": "stdout",
     "output_type": "stream",
     "text": [
      "P = 0.05170612182193867\n"
     ]
    }
   ],
   "source": [
    "p = 0.01\n",
    "n = 200\n",
    "puas = lambda k,n,p : ((n*p) ** k) * (np.exp(-(n*p))) / np.math.factorial(k)\n",
    "ans = 0\n",
    "for k in range(5,10):\n",
    "     ans += P(k, n, p) \n",
    "\n",
    "print(f\"P = {ans}\")\n"
   ]
  },
  {
   "cell_type": "markdown",
   "metadata": {},
   "source": [
    "Что, похоже, дает один и тот же результат"
   ]
  },
  {
   "cell_type": "markdown",
   "metadata": {},
   "source": [
    "### Задача 3\n",
    "\n",
    "В условиях предыдущей задачи сколько выстрелов нужно сделать чтобы быть уверенным с вероятностью 0.9, что хотя бы 10 раз будет совершено попадание?"
   ]
  },
  {
   "cell_type": "markdown",
   "metadata": {},
   "source": [
    "#### Решение\n",
    "Будем использовать формулу Пуассона:\n",
    "$$P(X = k) = \\dfrac{a^k e ^{-a}}{k!}.$$\n",
    "где $a = n \\cdot p$\n",
    "\n",
    "Фактически, нам нужно подобрать такое $n$ (количество выстрелов), чтобы $\\sum_{i=10}^{n} P(i) \\geq 0.9$"
   ]
  },
  {
   "cell_type": "markdown",
   "metadata": {},
   "source": [
    "Для упрощения вычисления, найдем вероятность обратного условия $$\\sum_{i=1}^{10} P(i) < 0.1$$\n",
    "Будем перебирать $n$ от $k$ и выше до тех пор, пока не удовлетворим условию"
   ]
  },
  {
   "cell_type": "code",
   "execution_count": 77,
   "metadata": {},
   "outputs": [
    {
     "name": "stdout",
     "output_type": "stream",
     "text": [
      "n = 1421\n"
     ]
    }
   ],
   "source": [
    "import itertools\n",
    "\n",
    "puas = lambda k,n,p : ((n*p) ** k) * (np.exp(-(n*p))) / np.math.factorial(k)\n",
    "\n",
    "p = 0.01\n",
    "k = 10\n",
    "prob = 0.1\n",
    "for n in itertools.count(start=k, step=1):\n",
    "    ans = 0\n",
    "    for _k in range(0,k):\n",
    "        ans += puas(_k, n, p)\n",
    "    if ans < prob:\n",
    "        print(f\"n = {n}\")\n",
    "        break\n"
   ]
  }
 ],
 "metadata": {
  "kernelspec": {
   "display_name": "Python 3",
   "language": "python",
   "name": "python3"
  },
  "language_info": {
   "codemirror_mode": {
    "name": "ipython",
    "version": 3
   },
   "file_extension": ".py",
   "mimetype": "text/x-python",
   "name": "python",
   "nbconvert_exporter": "python",
   "pygments_lexer": "ipython3",
   "version": "3.7.1"
  }
 },
 "nbformat": 4,
 "nbformat_minor": 2
}
