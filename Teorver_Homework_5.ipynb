{
 "cells": [
  {
   "cell_type": "markdown",
   "metadata": {},
   "source": [
    "# Теория вероятностей и математическая статистика\n",
    "## Домашнее задание по уроку 5"
   ]
  },
  {
   "cell_type": "code",
   "execution_count": 39,
   "metadata": {},
   "outputs": [],
   "source": [
    "import numpy as np\n",
    "import matplotlib.pyplot as plt\n",
    "from scipy import stats"
   ]
  },
  {
   "cell_type": "markdown",
   "metadata": {},
   "source": [
    "### Задача 1\n",
    "\n",
    "Утверждается, что шарики для подшипников, изготовленные автоматическим станком, имеют средний диаметр 17 мм. Используя уровень значимости 0.05 и правостороннюю критическую область, проверить данную гипотезу при условии, что в выборке из 100 шариков средний диаметр оказался равным 17.5 мм, а дисперсия известна и равна 4 мм."
   ]
  },
  {
   "cell_type": "markdown",
   "metadata": {},
   "source": [
    "#### Решение\n",
    "Сгенерируем выборку из 100 шариков, имеющих средний диаметр `a` 17 мм и дисперсию $\\sigma = 4 мм $  . Размер шариков - величина, подчиняющаяся нормальному распределению"
   ]
  },
  {
   "cell_type": "code",
   "execution_count": 23,
   "metadata": {},
   "outputs": [],
   "source": [
    "n = 100\n",
    "balls = np.random.normal(17, 4, size=n)\n",
    "# print(balls)"
   ]
  },
  {
   "cell_type": "markdown",
   "metadata": {},
   "source": [
    "Выдвиним гипотезу, что в выборке из 100 шариков средний диаметр оказался равным 17.5 мм. Уровень значимости $\\alpha$ = 0.05\n",
    "\n",
    "Далее, плоределим критическую область. При $\\alpha$ = 0.05 мы фактически ищем область двух сигм: значения величины $T$ с вероятностью 0.95 попадают в интервал\n",
    "$$\\left( 17.5 - \\dfrac{2}{\\sqrt{n}}, 17.5 + \\dfrac{2}{\\sqrt{n}} \\right).$$\n",
    "\n",
    "Поэтому для нашего выбора $\\alpha$ подойдёт двусторонняя критическая область\n",
    "$$\\left( - \\infty, 17.5 - \\dfrac{2}{\\sqrt{n}} \\right) \\cup \\left( 17.5 + \\dfrac{2}{\\sqrt{n}}, \\infty \\right).$$\n",
    "что при выборке в 100 шариков будет иметь вид\n",
    "$$\\left( - \\infty, 17.3 \\right) \\cup \\left( 17.7, \\infty \\right).$$\n"
   ]
  },
  {
   "cell_type": "code",
   "execution_count": 21,
   "metadata": {},
   "outputs": [
    {
     "data": {
      "text/plain": [
       "17.02843700619357"
      ]
     },
     "execution_count": 21,
     "metadata": {},
     "output_type": "execute_result"
    }
   ],
   "source": [
    "balls.mean()"
   ]
  },
  {
   "cell_type": "markdown",
   "metadata": {},
   "source": [
    "В результате данной выборки среднее лежит за пределами критической области. Что говорит о том что мы допустили ошибку второго рода. Следовательно, гипотеза неверна"
   ]
  },
  {
   "cell_type": "markdown",
   "metadata": {},
   "source": [
    "### Задача 2\n",
    "\n",
    "Известно, что генеральная совокупность распределена нормально со средним квадратическим отклонением 16. Найти доверительный интервал для оценки математического ожидания a с надежностью 0.95, если выборочное среднее равно 80, а объём равен 256."
   ]
  },
  {
   "cell_type": "code",
   "execution_count": 67,
   "metadata": {},
   "outputs": [
    {
     "data": {
      "text/plain": [
       "(78.016, 81.984)"
      ]
     },
     "execution_count": 67,
     "metadata": {},
     "output_type": "execute_result"
    },
    {
     "data": {
      "image/png": "[encoded data removed]",
      "text/plain": [
       "<Figure size 432x288 with 1 Axes>"
      ]
     },
     "metadata": {
      "needs_background": "light"
     },
     "output_type": "display_data"
    }
   ],
   "source": [
    "n = 256\n",
    "s = 16\n",
    "m = 80\n",
    "the_set = np.random.normal(loc=m, scale=s, size=n)\n",
    "\n",
    "plt.hist(the_set)\n",
    "t = 1.9840\n",
    "(m - t * s / np.sqrt(n), m + t * s / np.sqrt(n))"
   ]
  },
  {
   "cell_type": "code",
   "execution_count": 66,
   "metadata": {},
   "outputs": [
    {
     "data": {
      "text/plain": [
       "(72.0, 88.0)"
      ]
     },
     "execution_count": 66,
     "metadata": {},
     "output_type": "execute_result"
    }
   ],
   "source": [
    "(m - 2 * sigma, m + 2 * sigma)"
   ]
  },
  {
   "cell_type": "markdown",
   "metadata": {},
   "source": [
    "Попробуем проверить"
   ]
  },
  {
   "cell_type": "markdown",
   "metadata": {},
   "source": [
    "### Задача 3a\n",
    "\n",
    "Продавец утверждает, что средний вес пачки печенья составляет 200 г. Из партии извлечена выборка из 10 пачек. Вес каждой пачки составляет:\n",
    "\n",
    "202, 203, 199, 197, 195, 201, 200, 204, 194, 190\n",
    "\n",
    "Известно, что их веса распределены нормально. Верно ли утверждение продавца, если учитывать, что доверительная вероятность равна 99%?"
   ]
  },
  {
   "cell_type": "markdown",
   "metadata": {},
   "source": [
    "##### Решение\n",
    "Имея на руках отобранную партию печенья, найдем их среднее и несмещённую оценку для среднего квадратического отклонения:"
   ]
  },
  {
   "cell_type": "code",
   "execution_count": 52,
   "metadata": {},
   "outputs": [
    {
     "data": {
      "text/plain": [
       "(198.5, 4.453463071962462)"
      ]
     },
     "execution_count": 52,
     "metadata": {},
     "output_type": "execute_result"
    }
   ],
   "source": [
    "cookes = np.array([202, 203, 199, 197, 195, 201, 200, 204, 194, 190])\n",
    "m = cookes.mean()\n",
    "s = cookes.std(ddof=1)\n",
    "m,s"
   ]
  },
  {
   "cell_type": "markdown",
   "metadata": {},
   "source": [
    "Из таблицы квантилий при доверительной вероятности $\\alpha = 0.01$ получаем"
   ]
  },
  {
   "cell_type": "code",
   "execution_count": null,
   "metadata": {},
   "outputs": [],
   "source": [
    "t = 3.2498"
   ]
  },
  {
   "cell_type": "markdown",
   "metadata": {},
   "source": [
    "И строим доверительный интервал для нормального распределения:"
   ]
  },
  {
   "cell_type": "code",
   "execution_count": 55,
   "metadata": {},
   "outputs": [
    {
     "data": {
      "text/plain": [
       "(193.92327845730884, 203.07672154269116)"
      ]
     },
     "execution_count": 55,
     "metadata": {},
     "output_type": "execute_result"
    }
   ],
   "source": [
    "n = 10\n",
    "(m - t * s / np.sqrt(n), m + t * s / np.sqrt(n))"
   ]
  },
  {
   "cell_type": "markdown",
   "metadata": {},
   "source": [
    "Из чего следует что утверждение продавца верно при данной доверительнй вероятности"
   ]
  }
 ],
 "metadata": {
  "kernelspec": {
   "display_name": "Python 3",
   "language": "python",
   "name": "python3"
  },
  "language_info": {
   "codemirror_mode": {
    "name": "ipython",
    "version": 3
   },
   "file_extension": ".py",
   "mimetype": "text/x-python",
   "name": "python",
   "nbconvert_exporter": "python",
   "pygments_lexer": "ipython3",
   "version": "3.7.1"
  }
 },
 "nbformat": 4,
 "nbformat_minor": 2
}
